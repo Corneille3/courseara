{
  "nbformat": 4,
  "nbformat_minor": 0,
  "metadata": {
    "colab": {
      "name": "Xam2022.ipynb",
      "provenance": [],
      "collapsed_sections": []
    },
    "kernelspec": {
      "name": "python3",
      "display_name": "Python 3"
    },
    "language_info": {
      "name": "python"
    }
  },
  "cells": [
    {
      "cell_type": "code",
      "source": [
        "from google.colab import drive\n",
        "drive.mount('/content/drive')"
      ],
      "metadata": {
        "colab": {
          "base_uri": "https://localhost:8080/"
        },
        "id": "uB0R1h-1XLYc",
        "outputId": "fd6e043f-eb35-4916-defa-0964a8c8e56d"
      },
      "execution_count": 1,
      "outputs": [
        {
          "output_type": "stream",
          "name": "stdout",
          "text": [
            "Drive already mounted at /content/drive; to attempt to forcibly remount, call drive.mount(\"/content/drive\", force_remount=True).\n"
          ]
        }
      ]
    },
    {
      "cell_type": "code",
      "execution_count": 2,
      "metadata": {
        "id": "7AjGLEIQDrph"
      },
      "outputs": [],
      "source": [
        "import numpy as np\n",
        "import pandas as pd\n",
        "import matplotlib.pyplot as plt\n",
        "import seaborn as sns"
      ]
    },
    {
      "cell_type": "code",
      "source": [
        "import seaborn as sns\n",
        "import matplotlib.pyplot as plt\n",
        "from sklearn.model_selection import train_test_split\n",
        "from sklearn.linear_model import LinearRegression\n",
        "from sklearn.metrics import mean_squared_error, r2_score\n",
        "from sklearn.ensemble import RandomForestRegressor\n",
        "from sklearn.neighbors import KNeighborsRegressor\n",
        "from sklearn.tree import DecisionTreeRegressor\n",
        "from sklearn import metrics\n",
        "import numpy as np\n",
        "from sklearn.model_selection import GridSearchCV\n",
        "from sklearn.model_selection import learning_curve"
      ],
      "metadata": {
        "id": "IM-sN0S_EwXM"
      },
      "execution_count": 3,
      "outputs": []
    },
    {
      "cell_type": "markdown",
      "source": [
        "**Importation du data set**"
      ],
      "metadata": {
        "id": "-Qk2sG4LC5JB"
      }
    },
    {
      "cell_type": "code",
      "source": [
        "df = pd.read_csv('/content/drive/MyDrive/TP IF6243/Prep-Exam/Training_Data.csv')\n"
      ],
      "metadata": {
        "id": "Wq4VlKqqEFsh"
      },
      "execution_count": 4,
      "outputs": []
    },
    {
      "cell_type": "markdown",
      "source": [
        "**Conversion de l'attibut 'Sex' en valeur numeriques using One Hot Encoding**"
      ],
      "metadata": {
        "id": "WDiL2k9kC_7P"
      }
    },
    {
      "cell_type": "code",
      "source": [
        "Dummy = pd.get_dummies(df.Sex)\n",
        "merge = pd.concat([df, Dummy], axis = 1)\n",
        "\n",
        "df1 = merge.drop(['Sex'], axis = 1)\n",
        "df1.shape\n"
      ],
      "metadata": {
        "id": "g1xq4ixeEhf_",
        "colab": {
          "base_uri": "https://localhost:8080/"
        },
        "outputId": "79d62ad8-9baf-41d0-f9a8-e0414dcd29f0"
      },
      "execution_count": 5,
      "outputs": [
        {
          "output_type": "execute_result",
          "data": {
            "text/plain": [
              "(3177, 11)"
            ]
          },
          "metadata": {},
          "execution_count": 5
        }
      ]
    },
    {
      "cell_type": "markdown",
      "source": [
        "**Dertermine les variables dependantes et independantes**"
      ],
      "metadata": {
        "id": "S5jhQgVrDOKk"
      }
    },
    {
      "cell_type": "code",
      "source": [
        "X = df1.drop(['Rings'], axis = 1)\n",
        "y = df1['Rings']\n",
        "y"
      ],
      "metadata": {
        "id": "mHO1BFhwFDPy"
      },
      "execution_count": null,
      "outputs": []
    },
    {
      "cell_type": "code",
      "source": [
        "# from sklearn.preprocessing import MinMaxScaler\n",
        "\n",
        "# scaler = MinMaxScaler()\n",
        "# for col in df1.columns.values:\n",
        "#   df1[col] = pd.DataFrame(scaler.fit_transform(pd.DataFrame(df1[col])),columns=[col])\n",
        "# X = df1.drop(['Rings'], axis = 1)\n",
        "# y = df1['Rings']\n",
        "# df1.head(10)\n"
      ],
      "metadata": {
        "id": "ZEEzVC16QeDR"
      },
      "execution_count": null,
      "outputs": []
    },
    {
      "cell_type": "markdown",
      "source": [
        "**Divisons le jeu de donnees en Training et test set avec 80% pour le training et 20% pour le test**"
      ],
      "metadata": {
        "id": "_TA9zx7qEUZk"
      }
    },
    {
      "cell_type": "code",
      "source": [
        "from sklearn.model_selection import train_test_split\n",
        "X_train, X_test, y_train, y_test = train_test_split(X, y, test_size= 0.2, random_state= 1)\n",
        "\n",
        "print(X_train.shape, X_test.shape, y_train.shape, y_test.shape)"
      ],
      "metadata": {
        "id": "IIkj6OVXEml6"
      },
      "execution_count": null,
      "outputs": []
    },
    {
      "cell_type": "markdown",
      "source": [
        "**Construsons un modele de regression linear**"
      ],
      "metadata": {
        "id": "AF4_y4HlFE80"
      }
    },
    {
      "cell_type": "markdown",
      "source": [
        ""
      ],
      "metadata": {
        "id": "T2lDESY6zaCQ"
      }
    },
    {
      "cell_type": "code",
      "source": [
        "from sklearn.linear_model import LinearRegression\n",
        "\n",
        "li_model = LinearRegression()\n",
        "li_model.fit(X_train, y_train)\n",
        "\n",
        "li_y_trainP = li_model.predict(X_train)\n",
        "print('MAE:',metrics.mean_absolute_error(y_train,li_y_trainP))\n",
        "print('MSE:',metrics.mean_squared_error(y_train,li_y_trainP))\n",
        "print('RMSE:',np.sqrt(metrics.mean_squared_error(y_train,li_y_trainP)))\n",
        "#print(li_model.score(X_test, y_test))"
      ],
      "metadata": {
        "colab": {
          "base_uri": "https://localhost:8080/"
        },
        "id": "OzExoCxnFTlD",
        "outputId": "8c4c02d5-1614-45ab-a404-28ff4da84c95"
      },
      "execution_count": 30,
      "outputs": [
        {
          "output_type": "stream",
          "name": "stdout",
          "text": [
            "MAE: 1.5967592421782764\n",
            "MSE: 4.899153901947995\n",
            "RMSE: 2.213403239797935\n"
          ]
        }
      ]
    },
    {
      "cell_type": "markdown",
      "source": [
        "**Random Forest Hyperparameter tuning. I put in comment as it might take time to compile**"
      ],
      "metadata": {
        "id": "sNZJl5ZMI50-"
      }
    },
    {
      "cell_type": "code",
      "source": [
        "#from sklearn.model_selection import RandomizedSearchCV\n",
        "#rf = RandomForestRegressor()"
      ],
      "metadata": {
        "id": "y7-rL6T20TI9"
      },
      "execution_count": 26,
      "outputs": []
    },
    {
      "cell_type": "code",
      "source": [
        "#rf_random = RandomizedSearchCV(estimator = rf, param_distributions = random_grid, n_iter = 100, cv = 3, verbose=2, random_state=42, n_jobs = -1)\n",
        "#rf_random.fit(X_train, y_train)"
      ],
      "metadata": {
        "id": "NbUHq7e90dPt"
      },
      "execution_count": 27,
      "outputs": []
    },
    {
      "cell_type": "code",
      "source": [
        "#Meilleures parametres\n",
        "\n",
        "#rf_random.best_params_"
      ],
      "metadata": {
        "id": "BdWQB7i0z9Dy"
      },
      "execution_count": 28,
      "outputs": []
    },
    {
      "cell_type": "code",
      "source": [
        "#Meilleur estimateurs\n",
        "#rf_random.best_estimator_"
      ],
      "metadata": {
        "id": "c0wIMY2A0yWF"
      },
      "execution_count": 29,
      "outputs": []
    },
    {
      "cell_type": "markdown",
      "source": [
        "**Random Forest Model Building**"
      ],
      "metadata": {
        "id": "BwpRvmmn0-Jp"
      }
    },
    {
      "cell_type": "code",
      "source": [
        "from sklearn.ensemble import RandomForestRegressor\n",
        "rf_model = RandomForestRegressor(max_depth=10, max_features='sqrt', min_samples_leaf=2,\n",
        "                      min_samples_split=10, n_estimators=1000)\n",
        "rf_model.fit(X_train, y_train)\n",
        "\n",
        "rf_y_trainP = rf_model.predict(X_train)\n",
        "rf_yPred = rf_model.predict(X_test)\n",
        "\n",
        "#Perfomance du model sur l'entrainement\n",
        "\n",
        "print('MAE:',metrics.mean_absolute_error(y_train,rf_y_trainP))\n",
        "print('MSE:',metrics.mean_squared_error(y_train,rf_y_trainP))\n",
        "print('RMSE:',np.sqrt(metrics.mean_squared_error(y_train,rf_y_trainP)))\n",
        "\n",
        "# r2_score du jeu d'entrainement\n",
        "\n",
        "r2_score_train =metrics.r2_score(y_train,rf_y_trainP)\n",
        "\n",
        "print(r2_score_train)"
      ],
      "metadata": {
        "colab": {
          "base_uri": "https://localhost:8080/"
        },
        "id": "x-Nin5RWJCcX",
        "outputId": "8b9ea2b4-4906-49d6-fcfd-fc3801cd4eb5"
      },
      "execution_count": 31,
      "outputs": [
        {
          "output_type": "stream",
          "name": "stdout",
          "text": [
            "MAE: 1.1690485713845642\n",
            "MSE: 2.7150008589970813\n",
            "RMSE: 1.6477259659898187\n",
            "0.7453164020178191\n"
          ]
        }
      ]
    },
    {
      "cell_type": "code",
      "source": [
        "#Performance sur des nouvelles donnees\n",
        "\n",
        "print('MAE:',metrics.mean_absolute_error(y_test,rf_yPred))\n",
        "print('MSE:',metrics.mean_squared_error(y_test,rf_yPred))\n",
        "print('RMSE:',np.sqrt(metrics.mean_squared_error(y_test,rf_yPred )))\n",
        "\n",
        "#Estimation de la performance\n",
        "r2_score=metrics.r2_score(y_test,rf_yPred)\n",
        "r2_score\n"
      ],
      "metadata": {
        "id": "AYI_gE8zj8nO",
        "outputId": "308d1806-fbd9-44c9-dad9-94fe4d441226",
        "colab": {
          "base_uri": "https://localhost:8080/"
        }
      },
      "execution_count": 19,
      "outputs": [
        {
          "output_type": "execute_result",
          "data": {
            "text/plain": [
              "0.564815946495933"
            ]
          },
          "metadata": {},
          "execution_count": 19
        }
      ]
    },
    {
      "cell_type": "code",
      "source": [
        ""
      ],
      "metadata": {
        "id": "_ZHa1lrewQWg"
      },
      "execution_count": null,
      "outputs": []
    }
  ]
}