{
 "cells": [
  {
   "cell_type": "markdown",
   "metadata": {},
   "source": [
    "<center>\n",
    "    <img src=\"https://s3-api.us-geo.objectstorage.softlayer.net/cf-courses-data/CognitiveClass/Logos/organization_logo/organization_logo.png\" width=\"300\" alt=\"cognitiveclass.ai logo\"  />\n",
    "</center>\n"
   ]
  },
  {
   "cell_type": "markdown",
   "metadata": {},
   "source": [
    "#### Add your code below following the instructions given in the course\n"
   ]
  },
  {
   "cell_type": "markdown",
   "metadata": {},
   "source": [
    "# My Jupyter Notebook on IBM Watson Studio"
   ]
  },
  {
   "cell_type": "markdown",
   "metadata": {},
   "source": [
    "## Josimar Kouam\n",
    "Aspiring data scientist"
   ]
  },
  {
   "cell_type": "markdown",
   "metadata": {},
   "source": [
    "*I'm interested in data science because I love playing with data and show graphical reprensentations of those*.\n",
    "\n",
    "_it is quite challenging but I believe that with practice and endevour I will succeed_"
   ]
  },
  {
   "cell_type": "markdown",
   "metadata": {},
   "source": [
    "### The following code will add two number and display the result"
   ]
  },
  {
   "cell_type": "code",
   "execution_count": 40,
   "metadata": {},
   "outputs": [
    {
     "name": "stdout",
     "output_type": "stream",
     "text": [
      "3\n"
     ]
    }
   ],
   "source": [
    "print(1+2)"
   ]
  },
  {
   "cell_type": "markdown",
   "metadata": {},
   "source": [
    "I kinda like this markdown `fonctionality` as it `emphasize attention` on a particular aspect you want to draw attention to"
   ]
  },
  {
   "cell_type": "markdown",
   "metadata": {},
   "source": [
    "> In this cell, I will create a table with three rows and three columns. The fist column will be left-centered while the middle one and the \n",
    "third column will respectively centered and right-centered with the middle column `highligh` with data being in *italic* format. we can also make use of **Markdown** using quote. To learn more about **Markdown** you could [click here](https://www.youtube.com/watch?v=uVLzL5E-YBM \"Markdown tutorial\") to have access to more content in youtube. (A description of the **link** is shown by `hovering` the cursor on **click here**).\n",
    "Also you can add an image as the following one: ![alt text](https://github.com/adam-p/markdown-here/raw/master/src/common/images/icon48.png) to you content and ~~delete whatever you like~~. To conclude, you can also add footnote to you work[^1]\n",
    "\n",
    "\n",
    "Columns Ids      | `Position`     |Salaries|\n",
    "| -----------------|:-------------:| --------:|\n",
    "|id1               |_data scientist_ |4000    |\n",
    "|id2               | *data analyst*  |2500    |\n",
    "|id3               |*data architect*|3000    |\n",
    "\n"
   ]
  },
  {
   "cell_type": "code",
   "execution_count": null,
   "metadata": {},
   "outputs": [],
   "source": []
  }
 ],
 "metadata": {
  "kernelspec": {
   "display_name": "Python",
   "language": "python",
   "name": "conda-env-python-py"
  },
  "language_info": {
   "codemirror_mode": {
    "name": "ipython",
    "version": 3
   },
   "file_extension": ".py",
   "mimetype": "text/x-python",
   "name": "python",
   "nbconvert_exporter": "python",
   "pygments_lexer": "ipython3",
   "version": "3.7.12"
  }
 },
 "nbformat": 4,
 "nbformat_minor": 4
}
